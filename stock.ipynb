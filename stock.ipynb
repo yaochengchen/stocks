{
 "cells": [
  {
   "cell_type": "code",
   "execution_count": null,
   "id": "249f7833-96d8-439a-b8a1-25936763e59d",
   "metadata": {},
   "outputs": [],
   "source": [
    "# This simple example shows how to predict the performance of 5 user-selected sectors.\n",
    "# It uses linear equation to fit the short time historical data (15 days) and then uses the fitted function and today's data to predict next day's performance.\n",
    "# The meaning of the prediction is the variety of the portion of the sector among 5 user-selected sectors"
   ]
  },
  {
   "cell_type": "code",
   "execution_count": null,
   "id": "4ee63714-9e37-47f7-a45e-ba11e1d66319",
   "metadata": {},
   "outputs": [],
   "source": [
    "import pickle\n",
    "import numpy as np\n",
    "from scipy.optimize import lsq_linear\n",
    "from collections import defaultdict"
   ]
  },
  {
   "cell_type": "code",
   "execution_count": null,
   "id": "07ac7b93-6934-4388-8b22-456c63d535ca",
   "metadata": {},
   "outputs": [],
   "source": [
    "import akshare as ak\n",
    "stock_industry_sina_df = ak.stock_sector_spot(indicator=\"新浪行业\")\n",
    "#stock_industry_sina_df"
   ]
  },
  {
   "cell_type": "code",
   "execution_count": null,
   "id": "a1e1e186-b7e5-4098-8b99-8adf22e89920",
   "metadata": {},
   "outputs": [],
   "source": [
    "#labels = stock_industry_sina_df['label']\n",
    "#for i, sector in enumerate(stock_industry_sina_df['板块']):\n",
    "#    label = labels[i]\n",
    "    #print(label, sector)"
   ]
  },
  {
   "cell_type": "code",
   "execution_count": null,
   "id": "c5783ceb-a917-4770-8096-1c9683f590f7",
   "metadata": {},
   "outputs": [],
   "source": [
    "#gn_gf 光伏  gn_ndc 钠电池  gn_gtdc 固态电池   gn_gfgn 光伏概念   gn_xqzy 稀缺资源   gn_skgn 涉矿概念   gn_qcdz 汽车电子  gn_zjqrgn 机器人概念"
   ]
  },
  {
   "cell_type": "code",
   "execution_count": null,
   "id": "7138fa7f-d928-4bf8-8991-a962cc888153",
   "metadata": {},
   "outputs": [],
   "source": [
    "# User need to select 5 sectors of interest first.\n",
    "#select_labels =['gn_gfgn', 'gn_xqzy', 'gn_zjqrgn', 'gn_qcdz', 'gn_ndc']"
   ]
  },
  {
   "cell_type": "code",
   "execution_count": null,
   "id": "1f59e0ae-0e48-4bb6-8929-515d1592a772",
   "metadata": {},
   "outputs": [],
   "source": [
    "#select_labels =['new_dlhy', 'new_dzqj', 'new_hbhy', 'new_ysjs', 'new_qczz']\n",
    "select_labels = ['new_dzqj', 'new_hbhy', 'new_hghy', 'new_yqyb', 'new_ysjs']"
   ]
  },
  {
   "cell_type": "code",
   "execution_count": null,
   "id": "67c1911e-b265-4d35-84b2-45f01324da8e",
   "metadata": {},
   "outputs": [],
   "source": [
    "sector_to_symbols = dict()\n",
    "\n",
    "for label in stock_industry_sina_df['label']:\n",
    "    if label in select_labels:\n",
    "        #print(label)\n",
    "        stock_sector_detail_df = ak.stock_sector_detail(sector=label)\n",
    "        #print(stock_sector_detail_df)\n",
    "        symbols = stock_sector_detail_df['symbol']\n",
    "        #print(symbols)\n",
    "        #print(\"here\")\n",
    "        sector_to_symbols[label] = symbols"
   ]
  },
  {
   "cell_type": "code",
   "execution_count": null,
   "id": "659222f9-5f0d-4fa6-99ac-4f78f24daa78",
   "metadata": {},
   "outputs": [],
   "source": [
    "#with open('sector_to_symbols.pickle', 'wb') as f:\n",
    "#    pickle.dump(sector_to_symbols, f)"
   ]
  },
  {
   "cell_type": "code",
   "execution_count": null,
   "id": "df64bf23-c679-4915-bb87-aca0bedda755",
   "metadata": {},
   "outputs": [],
   "source": [
    "with open('sector_to_symbols.pickle', 'rb') as f:\n",
    "    sector_to_symbols = pickle.load(f)\n",
    "#sector_to_symbols"
   ]
  },
  {
   "cell_type": "code",
   "execution_count": null,
   "id": "7f1cde2a-0a47-4aef-9e77-29ca6e24b1c9",
   "metadata": {},
   "outputs": [],
   "source": [
    "#sector_to_symbols"
   ]
  },
  {
   "cell_type": "code",
   "execution_count": null,
   "id": "08e94058-dda0-482d-8245-7d6b00d3eae7",
   "metadata": {},
   "outputs": [],
   "source": [
    "sector_to_hist = dict()\n",
    "symbol_to_stock_zh_a_daily_qfq_df = dict()\n",
    "for sector, symbols in sector_to_symbols.items():\n",
    "    if sector in select_labels:\n",
    "        for symbol in symbols:\n",
    "            try:\n",
    "                stock_zh_a_daily_qfq_df = ak.stock_zh_a_daily(symbol=symbol, start_date=\"20220324\", end_date='20220602', adjust=\"hfq\")\n",
    "                symbol_to_stock_zh_a_daily_qfq_df[symbol] = stock_zh_a_daily_qfq_df\n",
    "            except:\n",
    "                pass\n"
   ]
  },
  {
   "cell_type": "code",
   "execution_count": null,
   "id": "03f9e423-7a75-49a7-93f3-6cfd71e3358b",
   "metadata": {},
   "outputs": [],
   "source": [
    "#with open('symbol_to_stock_zh_a_daily_qfq_df.pickle', 'wb') as f:\n",
    "#     pickle.dump(symbol_to_stock_zh_a_daily_qfq_df, f)"
   ]
  },
  {
   "cell_type": "code",
   "execution_count": null,
   "id": "c536d9ca-1c7c-4dd6-a1f2-3f625d0d09f7",
   "metadata": {},
   "outputs": [],
   "source": []
  },
  {
   "cell_type": "code",
   "execution_count": null,
   "id": "533c06ba-7a7b-4660-a2ac-f6f82fdbc9fc",
   "metadata": {},
   "outputs": [],
   "source": [
    "new_sector_to_symbols = dict()\n",
    "for sector, symbols in sector_to_symbols.items():\n",
    "    if sector in select_labels:\n",
    "        new_sector_to_symbols[sector] = symbols"
   ]
  },
  {
   "cell_type": "code",
   "execution_count": null,
   "id": "4db5d8e9-b853-4c25-9d01-840c3731abaa",
   "metadata": {},
   "outputs": [],
   "source": [
    "#new_sector_to_symbols"
   ]
  },
  {
   "cell_type": "code",
   "execution_count": null,
   "id": "1224501c-0c00-401f-8d8f-46b8f9b86516",
   "metadata": {},
   "outputs": [],
   "source": [
    "with open('symbol_to_stock_zh_a_daily_qfq_df.pickle', 'rb') as f:\n",
    "    my_dog = pickle.load(f)\n",
    "#my_dog"
   ]
  },
  {
   "cell_type": "code",
   "execution_count": null,
   "id": "bc76ec1c-0e07-48a3-ad4a-0f186db594aa",
   "metadata": {},
   "outputs": [],
   "source": [
    "#my_dog['sh600328']"
   ]
  },
  {
   "cell_type": "code",
   "execution_count": null,
   "id": "6f19f122-5eba-4773-8a94-350a04090a0c",
   "metadata": {},
   "outputs": [],
   "source": []
  },
  {
   "cell_type": "code",
   "execution_count": null,
   "id": "ac59ece2-9442-49c6-8425-f004c678c287",
   "metadata": {},
   "outputs": [],
   "source": [
    "# obtain the historical total capital of each sector\n",
    "sector_to_hist = dict()\n",
    "symbol_to_stock_zh_a_daily_qfq_df = dict()\n",
    "for sector, symbols in new_sector_to_symbols.items():\n",
    "    total = defaultdict(lambda:np.float(0.))\n",
    "    i = 0\n",
    "    for symbol in symbols:\n",
    "        try:\n",
    "            #print(symbol)\n",
    "            stock_zh_a_daily_qfq_df = my_dog[symbol]\n",
    "            #print(stock_zh_a_daily_qfq_df)\n",
    "            dates = stock_zh_a_daily_qfq_df['date']\n",
    "            prices = stock_zh_a_daily_qfq_df['close']\n",
    "            #print(np.isnan(price))\n",
    "            #print(price)\n",
    "            shares = stock_zh_a_daily_qfq_df['outstanding_share']\n",
    "            #print(np.isnan(shares))\n",
    "            #print(shares)\n",
    "            \n",
    "            for i, date in enumerate(dates):\n",
    "                price = prices[i]\n",
    "                share = shares[i]\n",
    "                t = price*share\n",
    "                total[date] += t\n",
    "            \n",
    "        except:\n",
    "            pass\n",
    "        #print(np.isnan(total))\n",
    "\n",
    "    sector_to_hist[sector] = total"
   ]
  },
  {
   "cell_type": "code",
   "execution_count": null,
   "id": "72ee044a-d515-4da8-867a-b75d58a1389c",
   "metadata": {},
   "outputs": [],
   "source": [
    "#sector_to_hist"
   ]
  },
  {
   "cell_type": "code",
   "execution_count": null,
   "id": "d66b10cb-c96b-4f3a-a75b-3dd599c6c1e0",
   "metadata": {},
   "outputs": [],
   "source": []
  },
  {
   "cell_type": "code",
   "execution_count": null,
   "id": "8c13a58a-7c8a-4c44-800b-8ec1b5b04ca2",
   "metadata": {},
   "outputs": [],
   "source": [
    "# calculate the total capital of all the sectors\n",
    "total = defaultdict(lambda:np.float(0.))\n",
    "for sector, hist in sector_to_hist.items():\n",
    "    for date, t in hist.items():\n",
    "        total[date] += t"
   ]
  },
  {
   "cell_type": "code",
   "execution_count": null,
   "id": "95f261dd-5426-49bb-b62c-e7dc569f2b6c",
   "metadata": {},
   "outputs": [],
   "source": []
  },
  {
   "cell_type": "code",
   "execution_count": null,
   "id": "96d94ae1-b9d8-482e-aab3-e278b55ee95d",
   "metadata": {},
   "outputs": [],
   "source": [
    "#total"
   ]
  },
  {
   "cell_type": "code",
   "execution_count": null,
   "id": "7bd8d12d-23fe-4ba0-b232-ccf07dd20319",
   "metadata": {},
   "outputs": [],
   "source": []
  },
  {
   "cell_type": "code",
   "execution_count": null,
   "id": "c598cc27-78d6-4253-9d53-5c25c4de7fb2",
   "metadata": {},
   "outputs": [],
   "source": []
  },
  {
   "cell_type": "code",
   "execution_count": null,
   "id": "62914937-cc6b-4d3b-8db5-2492f3818679",
   "metadata": {},
   "outputs": [],
   "source": [
    "# calculate the historical portion of each sector\n",
    "sector_to_portion = dict()\n",
    "for sector, hist in sector_to_hist.items():\n",
    "    portion = defaultdict(lambda:np.float(0.)) \n",
    "    for date, t in hist.items():\n",
    "        portion[date] = t/total[date]\n",
    "    sector_to_portion[sector] = portion"
   ]
  },
  {
   "cell_type": "code",
   "execution_count": null,
   "id": "fe1fe2c8-687e-4a7f-b011-c0e8b92d4d81",
   "metadata": {},
   "outputs": [],
   "source": [
    "#sector_to_portion"
   ]
  },
  {
   "cell_type": "code",
   "execution_count": null,
   "id": "c4ac1865-af61-4a31-91e0-50eae1075738",
   "metadata": {},
   "outputs": [],
   "source": [
    "# check the sum is one\n",
    "sum_check = defaultdict(lambda:np.float(0.))\n",
    "for sector, portions in sector_to_portion.items():\n",
    "    for date, p in portions.items():\n",
    "        sum_check[date] += p"
   ]
  },
  {
   "cell_type": "code",
   "execution_count": null,
   "id": "aa2df485-cd48-4abb-bca6-9decff455a94",
   "metadata": {},
   "outputs": [],
   "source": [
    "sum_check"
   ]
  },
  {
   "cell_type": "code",
   "execution_count": null,
   "id": "6ed742a8-fb47-4daa-bbe7-13deb3aa32ae",
   "metadata": {},
   "outputs": [],
   "source": [
    "# calculate the historical protion variation\n",
    "sector_to_dt_portion = defaultdict(lambda:np.float(0.))\n",
    "for sector, portions in sector_to_portion.items():\n",
    "    #print(portions)\n",
    "    i = 0\n",
    "    dt_portion = defaultdict(lambda:np.float(0.))\n",
    "    for date, p in portions.items():\n",
    "        if i == 0:\n",
    "            last_portion = p\n",
    "            i += 1\n",
    "        else:\n",
    "            dt_portion[date] = p - last_portion\n",
    "            last_portion = p\n",
    "    #print(dt_portion)\n",
    "    sector_to_dt_portion[sector] = dt_portion"
   ]
  },
  {
   "cell_type": "code",
   "execution_count": null,
   "id": "9b08b408-7101-4156-a85b-c7d03aa44180",
   "metadata": {},
   "outputs": [],
   "source": [
    "len(sector_to_dt_portion['new_dzqj'])"
   ]
  },
  {
   "cell_type": "code",
   "execution_count": null,
   "id": "24be4022-4852-43f1-8dfa-883622513d85",
   "metadata": {},
   "outputs": [],
   "source": [
    "x = np.zeros((45, 5))\n",
    "y = np.zeros((5, 45))\n",
    "j = 0\n",
    "for sector, dt_portions in sector_to_dt_portion.items():\n",
    "    i = 0\n",
    "    for date, dt_portion in dt_portions.items():\n",
    "        x[i][j] = dt_portion\n",
    "        y[j][i] = dt_portion\n",
    "        i += 1\n",
    "    j += 1\n",
    "        \n",
    "        "
   ]
  },
  {
   "cell_type": "code",
   "execution_count": null,
   "id": "1d743398-fa1b-4d21-a319-098ca76be65e",
   "metadata": {},
   "outputs": [],
   "source": [
    "#x"
   ]
  },
  {
   "cell_type": "code",
   "execution_count": null,
   "id": "f0e54eb7-9a5e-4fad-b89d-69f0a7c53ba3",
   "metadata": {},
   "outputs": [],
   "source": [
    "y"
   ]
  },
  {
   "cell_type": "code",
   "execution_count": null,
   "id": "39f0a3bc-423f-46f2-a31b-c15a26701a90",
   "metadata": {},
   "outputs": [],
   "source": [
    "import numpy as np\n",
    "from scipy import optimize\t\t# 最小二乘法拟合\n",
    "import matplotlib.pyplot as plt \t# python matplotlib 绘图\n",
    "from mpl_toolkits.mplot3d import Axes3D  # 3D 绘图\n",
    "\n",
    "\n",
    "def func(x_list, p):\n",
    "    \"\"\" 数据拟合所用的函数：z=p*x\n",
    "    :param x: 自变量 x\n",
    "    :param p: 拟合参数\n",
    "    \"\"\"\n",
    "    f = np.tensordot(x_list, p[:-1], axes = 1) + p[-1]\n",
    "    #print(x_list)\n",
    "    #print(y)\n",
    "    return f\n",
    "\n",
    "\n",
    "def residuals(p, z, x_list):\n",
    "    \"\"\" 得到数据 z 和拟合函数之间的差\n",
    "    \"\"\"\n",
    "    #print(\"z: \", z)\n",
    "    #print(func(x_list, p))\n",
    "    return z - func(x_list, p)\n",
    "\n",
    "def cost(p, z, x_list):\n",
    "    r = residuals(p, z, x_list)\n",
    "    r = r**2\n",
    "    return r.sum()\n",
    "\n",
    "\n",
    "def gridsearch(z, x_list):\n",
    "    least = np.inf\n",
    "    best_p = None\n",
    "    p = np.zeros([6])\n",
    "    s = [i/10. for i in range(-10, 11)]\n",
    "    #s = [0.2, 1.]\n",
    "    \n",
    "    for p0 in s:\n",
    "        p[0] = p0\n",
    "        \n",
    "        for p1 in s:\n",
    "            p[1] = p1\n",
    "            \n",
    "            for p2 in s:\n",
    "                p[2] = p2\n",
    "            \n",
    "                for p3 in s:\n",
    "                    p[3] = p3\n",
    "                    \n",
    "                    for p4 in s:\n",
    "                        p[4] = p4\n",
    "                        \n",
    "                        for p5 in s:\n",
    "                            p[5] = p5\n",
    "                    \n",
    "                        \n",
    "                            lst = cost(p, z, x_list)\n",
    "                            #print(p, lst)\n",
    "                        \n",
    "                            if lst < least:\n",
    "                                #print(p, lst)\n",
    "                                least = lst\n",
    "                                best_p = list(p)\n",
    "    print(least)\n",
    "    print(best_p)\n",
    "    return np.array(best_p)\n",
    "    \n",
    "def predict(x, best_p):\n",
    "    #print(best_p)\n",
    "    #print(x)\n",
    "    predict = np.tensordot(x, best_p[:-1], axes = 1) + best_p[-1]\n",
    "    return predict"
   ]
  },
  {
   "cell_type": "code",
   "execution_count": null,
   "id": "5c390c42-45e8-47bb-9079-688a30a96e4e",
   "metadata": {},
   "outputs": [],
   "source": [
    "from copy import deepcopy\n",
    "lb = [-1., -1., -1., -1., -1.]\n",
    "lu = [1., 1., 1., 1., 1.]\n",
    "def accuracy():\n",
    "    correct = 0\n",
    "    total = 0\n",
    "    best_p = np.zeros([6])\n",
    "    sum_red = 0.\n",
    "    count_purchase = 0\n",
    "    #print(best_p)\n",
    "    for i in range(29):\n",
    "        \n",
    "        max_pred = -10000000.\n",
    "        sector = 100000\n",
    "        for s in range(5):  # 5 sectors\n",
    "            #print(i)\n",
    "            n_y = y[s][1+i:16+i]\n",
    "            n_x = x[i:15+i]\n",
    "            dc_n_y = deepcopy(n_y)\n",
    "            dc_n_x = deepcopy(n_x)\n",
    "            #best_p = gridsearch(n_y, n_x)\n",
    "            result = lsq_linear(dc_n_x, dc_n_y, bounds = (lb, lu), max_iter = 1000000)\n",
    "            coef = deepcopy(result['x'])\n",
    "            for idx, p in enumerate(coef):  # be carefull!! cannot use i, otherwise will change i value in the first loop\n",
    "                best_p[idx] = p\n",
    "            t_x = x[15+i:16+i]\n",
    "            pred = predict(t_x, best_p)\n",
    "            if pred > max_pred:\n",
    "                max_pred = pred\n",
    "                sector = s\n",
    "            \n",
    "            \n",
    "            \n",
    "            target = y[s][16+i:17+i]\n",
    "            judge = pred*target\n",
    "            print(pred, target, judge)\n",
    "            #print(y[s])\n",
    "            #print(' ')\n",
    "            if 1:#pred[0] > 0.00:  # only see strong prediction\n",
    "                if judge > 0:\n",
    "                    correct += 1\n",
    "                total += 1\n",
    "            if pred[0] > 0.:\n",
    "                sum_red += target\n",
    "                count_purchase += 1\n",
    "        print(' ')\n",
    "    print(\"accuracy is:  \", correct/total)\n",
    "    print(\"expected benefit per purchase: \", sum_red/count_purchase)"
   ]
  },
  {
   "cell_type": "code",
   "execution_count": null,
   "id": "7bed7d04-24ff-4093-bc7f-ae666b28fb8e",
   "metadata": {},
   "outputs": [],
   "source": [
    "#p = np.array([0.98779583, -0.99550428,  0.48027421,  0.6813524,   0.28157936,  0.])\n",
    "#predict(np.array([[-0.00692854, -0.00021002, -0.00277886,  0.00942962,  0.0004878 ]]), p)"
   ]
  },
  {
   "cell_type": "code",
   "execution_count": null,
   "id": "92b26413-29d8-478b-b9f4-312586b17f6e",
   "metadata": {},
   "outputs": [],
   "source": [
    "# prediction, really, prediction*really\n",
    "accuracy()"
   ]
  },
  {
   "cell_type": "code",
   "execution_count": null,
   "id": "7da6ca64-ccd2-4c36-affd-a49e1fe89c42",
   "metadata": {},
   "outputs": [],
   "source": []
  },
  {
   "cell_type": "code",
   "execution_count": null,
   "id": "6d061dd3-cd20-430f-89d9-3214ffe4aa44",
   "metadata": {},
   "outputs": [],
   "source": [
    "lb = [-1., -1., -1., -1., -1.]\n",
    "lu = [1., 1., 1., 1., 1.]\n",
    "best_p = np.zeros([6])\n",
    "n_y = y[0][-16:-1]\n",
    "n_x = x[-17:-2]\n",
    "#best_p = gridsearch(n_y, n_x)\n",
    "result = lsq_linear(n_x, n_y, bounds = (lb, lu), max_iter = 1000000)\n",
    "for idx, p in enumerate(result['x']):\n",
    "    best_p[idx] = p\n",
    "t_x = x[-2:-1]\n",
    "pred = predict(t_x, best_p)"
   ]
  },
  {
   "cell_type": "code",
   "execution_count": null,
   "id": "7b19974b-56a6-4231-9d83-3e781bc636b5",
   "metadata": {},
   "outputs": [],
   "source": [
    "pred"
   ]
  },
  {
   "cell_type": "code",
   "execution_count": null,
   "id": "8f725a1e-ebae-4c62-9f7b-835d87a5e290",
   "metadata": {},
   "outputs": [],
   "source": [
    "y[0][-1]"
   ]
  },
  {
   "cell_type": "code",
   "execution_count": null,
   "id": "13fd96cb-33cd-413a-b169-3fbc7d0ed3a4",
   "metadata": {},
   "outputs": [],
   "source": [
    "for i in range(5):\n",
    "    lb = [-1., -1., -1., -1., -1.]\n",
    "    lu = [1., 1., 1., 1., 1.]\n",
    "    best_p = np.zeros([6])\n",
    "    n_y = y[i][-15:]\n",
    "    n_x = x[-16:-1]\n",
    "    #best_p = gridsearch(n_y, n_x)\n",
    "    result = lsq_linear(n_x, n_y, bounds = (lb, lu), max_iter = 1000000)\n",
    "    for idx, p in enumerate(result['x']):\n",
    "        best_p[idx] = p\n",
    "    t_x = x[-1:]\n",
    "    pred = predict(t_x, best_p)\n",
    "    print(pred)"
   ]
  },
  {
   "cell_type": "code",
   "execution_count": null,
   "id": "368d4234-311f-41e9-a019-3347026e5e95",
   "metadata": {},
   "outputs": [],
   "source": []
  }
 ],
 "metadata": {
  "kernelspec": {
   "display_name": "Python 3 (ipykernel)",
   "language": "python",
   "name": "python3"
  },
  "language_info": {
   "codemirror_mode": {
    "name": "ipython",
    "version": 3
   },
   "file_extension": ".py",
   "mimetype": "text/x-python",
   "name": "python",
   "nbconvert_exporter": "python",
   "pygments_lexer": "ipython3",
   "version": "3.8.10"
  }
 },
 "nbformat": 4,
 "nbformat_minor": 5
}
